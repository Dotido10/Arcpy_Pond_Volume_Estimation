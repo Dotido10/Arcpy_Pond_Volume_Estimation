{
 "cells": [
  {
   "cell_type": "markdown",
   "id": "cbb13be3",
   "metadata": {},
   "source": [
    "# Storm water retention basin volume estimation\n",
    "\n",
    "To compute the basin's water volume, we will use a USGS DEM as the primary dataset, since it provides elevation data for the entire basin surface and also a shapefile representing the water footprint in the bassin. The storm water retention basin is a sink. By filling it at the level of the water footprint, and then comparing the filled elevation to the basin's original elevation, we can determine the volume capacity."
   ]
  },
  {
   "cell_type": "code",
   "execution_count": 1,
   "id": "271f6ac2",
   "metadata": {},
   "outputs": [],
   "source": [
    "# Import system modules\n",
    "import arcpy\n",
    "import os\n",
    "from arcpy.sa import *"
   ]
  },
  {
   "cell_type": "code",
   "execution_count": 2,
   "id": "82af7f52",
   "metadata": {},
   "outputs": [],
   "source": [
    "# Set environment settings\n",
    "arcpy.env.workspace = os.getcwd()\n",
    "arcpy.env.overwriteOutput = True"
   ]
  },
  {
   "cell_type": "code",
   "execution_count": 3,
   "id": "9901e03d",
   "metadata": {},
   "outputs": [
    {
     "data": {
      "text/html": [
       "<div class='gpresult'><h2>Messages</h2><div id='messages'>Start Time: vendredi, 20 décembre 2024 13:57:53<br>Reading Features...<br>Cracking Features...<br>Assembling Features...<br>Succeeded at vendredi, 20 décembre 2024 13:57:53 (Elapsed Time: 0,17 seconds)<br></div><div id = 'default' /></div></div>"
      ],
      "text/plain": [
       "<Result 'C:\\\\Users\\\\gaell\\\\Documents\\\\Renaldo\\\\Python_Portfolio\\\\ESRI\\\\Volume_calculation\\\\Subwatersheds_digitization_Line.shp'>"
      ]
     },
     "execution_count": 3,
     "metadata": {},
     "output_type": "execute_result"
    }
   ],
   "source": [
    "# Convert Polygon to Line\n",
    "# Create variables for the input and output feature classes\n",
    "in_features = \"Water_footprint.shp\"\n",
    "out_feature_class = \"Subwatersheds_digitization_Line\"\n",
    "\n",
    "# Run PolygonToLine to convert polygons to lines \n",
    "arcpy.PolygonToLine_management(in_features, out_feature_class)"
   ]
  },
  {
   "cell_type": "code",
   "execution_count": 4,
   "id": "387decc3",
   "metadata": {},
   "outputs": [
    {
     "data": {
      "text/html": [
       "<div class='gpresult'><h2>Messages</h2><div id='messages'>Start Time: vendredi, 20 décembre 2024 13:57:53<br>Succeeded at vendredi, 20 décembre 2024 13:57:54 (Elapsed Time: 0,24 seconds)<br></div><div id = 'default' /></div></div>"
      ],
      "text/plain": [
       "<geoprocessing server result object at 0x202f2224450>"
      ]
     },
     "execution_count": 4,
     "metadata": {},
     "output_type": "execute_result"
    }
   ],
   "source": [
    "# Add elevation information to the Line \n",
    "# Set the local variables\n",
    "inFeatureClass = \"Subwatersheds_digitization_Line\"\n",
    "inSurface = \"usgs_dem\"\n",
    "out_property = \"Z_MEAN\"\n",
    "method = \"BILINEAR\"\n",
    "\n",
    "# Execute the tool\n",
    "AddSurfaceInformation(inFeatureClass, inSurface, out_property, method)"
   ]
  },
  {
   "cell_type": "code",
   "execution_count": 5,
   "id": "607f8a00",
   "metadata": {},
   "outputs": [
    {
     "data": {
      "image/png": "[encoded data removed]",
      "text/plain": [
       "C:\\Users\\gaell\\Documents\\Renaldo\\Python_Portfolio\\ESRI\\Volume_calculation\\usgsfill"
      ]
     },
     "execution_count": 5,
     "metadata": {},
     "output_type": "execute_result"
    }
   ],
   "source": [
    "# Fill the Surface\n",
    "# Water footprint Z value recuperation\n",
    "fc = \"Subwatersheds_digitization_Line\"\n",
    "field = \"Z_MEAN\"\n",
    "\n",
    "values = [row[0] for row in arcpy.da.SearchCursor(fc, field)]\n",
    "values[0]\n",
    "\n",
    "# Set local variables\n",
    "inSurfaceRaster = \"usgs_dem\"\n",
    "zLimit = values[0]\n",
    "\n",
    "# Execute FlowDirection\n",
    "BasinFill = Fill(inSurfaceRaster, zLimit)\n",
    "\n",
    "# Save the output \n",
    "BasinFill.save(\"usgsfill\")\n",
    "\n",
    "BasinFill"
   ]
  },
  {
   "cell_type": "code",
   "execution_count": 6,
   "id": "35a39b63",
   "metadata": {},
   "outputs": [
    {
     "name": "stdout",
     "output_type": "stream",
     "text": [
      "The largest shape represents the retention basin and provides the basin's volume.\n"
     ]
    },
    {
     "data": {
      "image/png": "[encoded data removed]",
      "text/plain": [
       "C:\\Users\\gaell\\Documents\\Renaldo\\Python_Portfolio\\ESRI\\Volume_calculation\\CutFill_dem"
      ]
     },
     "execution_count": 6,
     "metadata": {},
     "output_type": "execute_result"
    }
   ],
   "source": [
    "# Cut Fill tool to calculate the volume change between the original DEM and BasinFill layer.\n",
    "with arcpy.EnvManager(scratchWorkspace=os.getcwd()):\n",
    "    Basin_cutfill = arcpy.sa.CutFill(\n",
    "        in_before_surface=\"usgs_dem\",\n",
    "        in_after_surface=\"usgfill\",\n",
    "        z_factor=1\n",
    "    )\n",
    "    Basin_cutfill.save(os.getcwd()+\"\\\\CutFill_dem\")\n",
    "    \n",
    "print(\"The largest shape represents the retention basin and provides the basin's volume.\")    \n",
    "Basin_cutfill    \n"
   ]
  },
  {
   "cell_type": "code",
   "execution_count": 7,
   "id": "64de3073",
   "metadata": {},
   "outputs": [
    {
     "name": "stdout",
     "output_type": "stream",
     "text": [
      "The attribute table of the Basin_cutfill layer contains a field, Volume, with volume measurements for each sink. The volume values are all expressed as negative numbers because when we used the Cut Fill tool, we subtracted the higher elevation from the lower. The largest shape corresponds to the min volume.\n"
     ]
    },
    {
     "data": {
      "text/plain": [
       "(-38565.1410447,)"
      ]
     },
     "execution_count": 7,
     "metadata": {},
     "output_type": "execute_result"
    }
   ],
   "source": [
    "# Volume value recuperation\n",
    "fc = \"CutFill_dem\" \n",
    "field = \"VOLUME\"\n",
    "\n",
    "val = [field for field in arcpy.da.SearchCursor(fc, field)]\n",
    "\n",
    "print(\"The attribute table of the Basin_cutfill layer contains a field, Volume, with volume measurements for each sink. The volume values are all expressed as negative numbers because when we used the Cut Fill tool, we subtracted the higher elevation from the lower. The largest shape corresponds to the min volume.\")\n",
    "min(val)"
   ]
  }
 ],
 "metadata": {
  "kernelspec": {
   "display_name": "Python 3 (ipykernel)",
   "language": "python",
   "name": "python3"
  },
  "language_info": {
   "codemirror_mode": {
    "name": "ipython",
    "version": 3
   },
   "file_extension": ".py",
   "mimetype": "text/x-python",
   "name": "python",
   "nbconvert_exporter": "python",
   "pygments_lexer": "ipython3",
   "version": "3.11.8"
  }
 },
 "nbformat": 4,
 "nbformat_minor": 5
}
